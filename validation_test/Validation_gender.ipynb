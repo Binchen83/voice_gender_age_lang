{
 "cells": [
  {
   "cell_type": "markdown",
   "metadata": {},
   "source": [
    "### Validation Gender optimiert"
   ]
  },
  {
   "cell_type": "code",
   "execution_count": 1,
   "metadata": {},
   "outputs": [
    {
     "name": "stdout",
     "output_type": "stream",
     "text": [
      "Reihe 0 fertig\n",
      "Konvertierung abgeschlossen.\n",
      "(11, 40)\n",
      "Fertig !!!\n"
     ]
    }
   ],
   "source": [
    "import pandas as pd\n",
    "import numpy as np\n",
    "\n",
    "#df_test = pd.read_csv ('/home/ec2-user/SageMaker/voice_gender_age/validation_test/test_final_FeaturesExtracted.csv', delimiter = ';')\n",
    "df_test = pd.read_csv ('/home/ec2-user/SageMaker/voice_gender_age/validation_test/FeaturesExtracted_TestdatenBDC_Gender_Age.csv', delimiter = ';')\n",
    "\n",
    "list_cn = df_test.columns.values\n",
    "list_cn = np.delete(list_cn,0)\n",
    "list_cn = np.delete(list_cn,0)\n",
    "list_cn = np.delete(list_cn,0)\n",
    "list_cn = np.delete(list_cn,0)\n",
    "list_cn = np.delete(list_cn,0)\n",
    "list_cn = np.delete(list_cn,0)\n",
    "list_cn\n",
    "\n",
    "nrows = len(df_test)\n",
    "\n",
    "for i in range (0,nrows):\n",
    "    for j in list_cn:\n",
    "        list_c = df_test[j].iloc[i]\n",
    "        list_c = list_c.replace('[','')\n",
    "        list_c = list_c.replace(']','')\n",
    "        list1 = np.fromstring (list_c, sep=' ',dtype=float)\n",
    "        df_test[j].iat[i] = list1\n",
    "        df_test[j].iat[i] = df_test[j].iloc[i].mean()\n",
    "    if (i % 10000 == 0):\n",
    "        print (\"Reihe \"+ str(i) + \" fertig\")\n",
    "print (\"Konvertierung abgeschlossen.\")\n",
    "\n",
    "print (df_test.shape)\n",
    "\n",
    "df_pred = df_test.copy()\n",
    "del df_pred['Unnamed: 0']\n",
    "del df_pred['index']\n",
    "del df_pred['path']\n",
    "del df_pred['age']\n",
    "del df_pred['file_wave']\n",
    "del df_pred['gender']\n",
    "\n",
    "#list (df_pred.columns)\n",
    "#df_pred.shape\n",
    "\n",
    "print (\"Fertig !!!\")"
   ]
  },
  {
   "cell_type": "code",
   "execution_count": 2,
   "metadata": {},
   "outputs": [
    {
     "name": "stdout",
     "output_type": "stream",
     "text": [
      "WARNING:tensorflow:From /home/ec2-user/anaconda3/envs/tensorflow_p36/lib/python3.6/site-packages/tensorflow_core/__init__.py:1467: The name tf.estimator.inputs is deprecated. Please use tf.compat.v1.estimator.inputs instead.\n",
      "\n",
      "WARNING:tensorflow:From /home/ec2-user/anaconda3/envs/tensorflow_p36/lib/python3.6/site-packages/tensorflow_core/python/ops/resource_variable_ops.py:1630: calling BaseResourceVariable.__init__ (from tensorflow.python.ops.resource_variable_ops) with constraint is deprecated and will be removed in a future version.\n",
      "Instructions for updating:\n",
      "If using Keras pass *_constraint arguments to layers.\n",
      "WARNING:tensorflow:OMP_NUM_THREADS is no longer used by the default Keras config. To configure the number of threads, use tf.config.threading APIs.\n",
      "WARNING:tensorflow:From /home/ec2-user/anaconda3/envs/tensorflow_p36/lib/python3.6/site-packages/tensorflow_core/python/ops/nn_impl.py:183: where (from tensorflow.python.ops.array_ops) is deprecated and will be removed in a future version.\n",
      "Instructions for updating:\n",
      "Use tf.where in 2.0, which has the same broadcast rule as np.where\n",
      "[[0.9808297]]\n",
      "[[1]]\n",
      "----------\n",
      "[[0.9653391]]\n",
      "[[1]]\n",
      "----------\n",
      "[[0.99986136]]\n",
      "[[1]]\n",
      "----------\n",
      "[[0.99682057]]\n",
      "[[1]]\n",
      "----------\n",
      "[[0.28632566]]\n",
      "[[0]]\n",
      "----------\n",
      "[[0.9284343]]\n",
      "[[1]]\n",
      "----------\n",
      "[[0.94071114]]\n",
      "[[1]]\n",
      "----------\n"
     ]
    }
   ],
   "source": [
    "import tensorflow as tf\n",
    "from tensorflow import keras\n",
    "# model_age = keras.models.load_model ('/home/ec2-user/SageMaker/voice_gender_age/Age_without_Gender_opti/model.h5', custom_objects = None, compile = True)\n",
    "# Neues Modell mit breiter Spanne\n",
    "# model_age = keras.models.load_model ('/home/ec2-user/SageMaker/voice_gender_age/Age_without_Gender_opti/model_breiteSpanne.h5', custom_objects = None, compile = True)\n",
    "model_gender_opt = keras.models.load_model ('/home/ec2-user/SageMaker/voice_gender_age/Optimierung_Gender_UC1/model.h5', custom_objects = None, compile = True)\n",
    "\n",
    "# model_age.summary()\n",
    "\n",
    "df_final = df_test.copy()\n",
    "df_final['pred_class']=0\n",
    "df_final['pred_proba']=0\n",
    "\n",
    "for i in range (7):\n",
    "    prediction = model_gender_opt.predict(df_pred.iloc[[i]])\n",
    "    prediction_class = model_gender_opt.predict_classes(df_pred.iloc[[i]])\n",
    "    prediction_proba = model_gender_opt.predict_proba(df_pred.iloc[[i]])\n",
    "    print(prediction)\n",
    "    print (prediction_class)\n",
    "    df_final.at[i,'pred_class'] = prediction_class\n",
    "    #df_final.at[i,'pred_proba'] = prediction_proba\n",
    "    #print (prediction_proba)\n",
    "    print (\"----------\")\n",
    "    \n",
    "anzahl_samples = df_final.shape[0]\n",
    "korrekt = 0\n",
    "falsch = 0"
   ]
  },
  {
   "cell_type": "markdown",
   "metadata": {},
   "source": [
    "0 = male 1 = female"
   ]
  },
  {
   "cell_type": "code",
   "execution_count": 3,
   "metadata": {},
   "outputs": [
    {
     "name": "stdout",
     "output_type": "stream",
     "text": [
      "Korrekt: 4/11\n",
      "Falsch: 7/11\n"
     ]
    }
   ],
   "source": [
    "## Mit großer Spanne\n",
    "for i in range (anzahl_samples):\n",
    "    if ((df_final.pred_class[i]==0) & (df_final.gender[i] == 'male')):\n",
    "        korrekt +=1\n",
    "    elif ((df_final.pred_class[i]==1) & (df_final.age[i] == 'female')):\n",
    "        korrekt +=1\n",
    "    else:\n",
    "        falsch +=1\n",
    "\n",
    "print ('Korrekt: ' + str(korrekt) +'/'+ str(anzahl_samples))\n",
    "print ('Falsch: ' + str(falsch) +'/'+ str(anzahl_samples))"
   ]
  },
  {
   "cell_type": "code",
   "execution_count": null,
   "metadata": {},
   "outputs": [],
   "source": []
  }
 ],
 "metadata": {
  "kernelspec": {
   "display_name": "conda_tensorflow_p36",
   "language": "python",
   "name": "conda_tensorflow_p36"
  },
  "language_info": {
   "codemirror_mode": {
    "name": "ipython",
    "version": 3
   },
   "file_extension": ".py",
   "mimetype": "text/x-python",
   "name": "python",
   "nbconvert_exporter": "python",
   "pygments_lexer": "ipython3",
   "version": "3.6.6"
  }
 },
 "nbformat": 4,
 "nbformat_minor": 4
}
